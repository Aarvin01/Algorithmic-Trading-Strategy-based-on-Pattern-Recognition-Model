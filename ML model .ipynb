{
 "cells": [
  {
   "cell_type": "code",
   "execution_count": 1,
   "id": "169cc1e9",
   "metadata": {},
   "outputs": [],
   "source": [
    "import pandas as pd\n",
    "import numpy as np\n",
    "import warnings\n",
    "warnings.filterwarnings(\"ignore\")"
   ]
  },
  {
   "cell_type": "code",
   "execution_count": 2,
   "id": "1f051000",
   "metadata": {},
   "outputs": [],
   "source": [
    "df = pd.read_csv('Prepared_data.csv')\n",
    "df = df.set_index('Date')"
   ]
  },
  {
   "cell_type": "code",
   "execution_count": 3,
   "id": "fbc9897c",
   "metadata": {},
   "outputs": [
    {
     "name": "stdout",
     "output_type": "stream",
     "text": [
      "(4110, 31)\n",
      "(4110,)\n"
     ]
    }
   ],
   "source": [
    "dx = df.drop(\"signal\",axis = 1)\n",
    "dy = df[\"signal\"]\n",
    "X = dx\n",
    "y = dy\n",
    "print(X.shape)\n",
    "print(y.shape)"
   ]
  },
  {
   "cell_type": "code",
   "execution_count": 4,
   "id": "8e67b792",
   "metadata": {},
   "outputs": [
    {
     "data": {
      "text/plain": [
       "3082"
      ]
     },
     "execution_count": 4,
     "metadata": {},
     "output_type": "execute_result"
    }
   ],
   "source": [
    "dataset_length = df.shape[0]\n",
    "\n",
    "split = int(dataset_length * 0.75)\n",
    "split"
   ]
  },
  {
   "cell_type": "code",
   "execution_count": 5,
   "id": "5ec26eb9",
   "metadata": {},
   "outputs": [
    {
     "name": "stdout",
     "output_type": "stream",
     "text": [
      "(3082, 31) (1028, 31)\n",
      "(3082,) (1028,)\n"
     ]
    }
   ],
   "source": [
    "X_train, X_test = X[:split], X[split:]\n",
    "y_train, y_test = y[:split], y[split:]\n",
    "\n",
    "print(X_train.shape, X_test.shape)\n",
    "print(y_train.shape, y_test.shape)"
   ]
  },
  {
   "cell_type": "code",
   "execution_count": 6,
   "id": "3781639b",
   "metadata": {},
   "outputs": [
    {
     "name": "stdout",
     "output_type": "stream",
     "text": [
      "Best Parameters: {'criterion': 'gini', 'max_depth': None, 'max_features': 6, 'min_samples_leaf': 4}\n",
      "Best score is 0.934462943863268\n"
     ]
    }
   ],
   "source": [
    "from sklearn.model_selection import RandomizedSearchCV\n",
    "from sklearn.ensemble import RandomForestClassifier\n",
    "from scipy.stats import randint\n",
    "\n",
    "param_dist = {\"max_depth\": [3, None],\n",
    "              \"max_features\": randint(1, 9),\n",
    "              \"min_samples_leaf\": randint(1, 9),\n",
    "              \"criterion\": [\"gini\", \"entropy\"]}\n",
    "  \n",
    "tree = RandomForestClassifier()\n",
    "  \n",
    "tree_cv = RandomizedSearchCV(tree, param_dist, cv = 5)\n",
    "  \n",
    "tree_cv.fit(X_train, y_train)\n",
    "\n",
    "print(\"Best Parameters: {}\".format(tree_cv.best_params_))\n",
    "print(\"Best score is {}\".format(tree_cv.best_score_))"
   ]
  },
  {
   "cell_type": "code",
   "execution_count": 7,
   "id": "8197e201",
   "metadata": {},
   "outputs": [],
   "source": [
    "criterion = tree_cv.best_params_['criterion']\n",
    "max_depth = tree_cv.best_params_['max_depth']\n",
    "max_features = tree_cv.best_params_['max_features']\n",
    "min_samples_leaf = tree_cv.best_params_['min_samples_leaf']"
   ]
  },
  {
   "cell_type": "code",
   "execution_count": 8,
   "id": "174c1b7b",
   "metadata": {},
   "outputs": [],
   "source": [
    "clf = RandomForestClassifier(criterion = criterion,max_depth = max_depth,max_features = max_features,min_samples_leaf = min_samples_leaf,random_state=100)"
   ]
  },
  {
   "cell_type": "code",
   "execution_count": 9,
   "id": "6413ed12",
   "metadata": {},
   "outputs": [],
   "source": [
    "model = clf.fit(X_train, y_train)"
   ]
  },
  {
   "cell_type": "code",
   "execution_count": 10,
   "id": "4c84e52f",
   "metadata": {},
   "outputs": [
    {
     "name": "stdout",
     "output_type": "stream",
     "text": [
      "Prediction (%):  90.27237354085604\n"
     ]
    }
   ],
   "source": [
    "from sklearn.metrics import accuracy_score\n",
    "print('Prediction (%): ', accuracy_score(y_test, model.predict(X_test), normalize=True)*100.0)"
   ]
  },
  {
   "cell_type": "code",
   "execution_count": 11,
   "id": "88828e3e",
   "metadata": {},
   "outputs": [
    {
     "name": "stdout",
     "output_type": "stream",
     "text": [
      "              precision    recall  f1-score   support\n",
      "\n",
      "           0       0.87      1.00      0.93       670\n",
      "           1       1.00      0.72      0.84       358\n",
      "\n",
      "    accuracy                           0.90      1028\n",
      "   macro avg       0.94      0.86      0.88      1028\n",
      "weighted avg       0.92      0.90      0.90      1028\n",
      "\n"
     ]
    }
   ],
   "source": [
    "from sklearn.metrics import classification_report\n",
    "report = classification_report(y_test, model.predict(X_test))\n",
    "print(report)"
   ]
  },
  {
   "cell_type": "code",
   "execution_count": null,
   "id": "576e14b7",
   "metadata": {},
   "outputs": [],
   "source": []
  }
 ],
 "metadata": {
  "kernelspec": {
   "display_name": "Python 3 (ipykernel)",
   "language": "python",
   "name": "python3"
  },
  "language_info": {
   "codemirror_mode": {
    "name": "ipython",
    "version": 3
   },
   "file_extension": ".py",
   "mimetype": "text/x-python",
   "name": "python",
   "nbconvert_exporter": "python",
   "pygments_lexer": "ipython3",
   "version": "3.9.7"
  }
 },
 "nbformat": 4,
 "nbformat_minor": 5
}
