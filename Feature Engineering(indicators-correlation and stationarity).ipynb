{
 "cells": [
  {
   "cell_type": "code",
   "execution_count": 1,
   "id": "8d21348c",
   "metadata": {},
   "outputs": [],
   "source": [
    "import pandas as pd\n",
    "import numpy as np\n",
    "import matplotlib.pyplot as plt\n",
    "import yfinance as yf\n",
    "import warnings\n",
    "warnings.filterwarnings(\"ignore\")\n",
    "import talib as ta"
   ]
  },
  {
   "cell_type": "code",
   "execution_count": 2,
   "id": "d02f0bc1",
   "metadata": {},
   "outputs": [
    {
     "name": "stdout",
     "output_type": "stream",
     "text": [
      "[*********************100%***********************]  1 of 1 completed\n"
     ]
    }
   ],
   "source": [
    "data = yf.download(\"RELIANCE.NS\",start =\"2005-1-1\",end = \"2020-1-1\", interval = '1D').dropna()\n",
    "dd = data.copy()"
   ]
  },
  {
   "cell_type": "code",
   "execution_count": 3,
   "id": "cd779455",
   "metadata": {},
   "outputs": [],
   "source": [
    "def vwap(data):\n",
    "    vp = data[\"Adj Close\"]*data[\"Volume\"]+data[\"Adj Close\"].shift(1)*data[\"Volume\"].shift(1)\n",
    "    v = data[\"Volume\"]+data[\"Volume\"].shift(1)\n",
    "    data[\"vwap\"] = vp / v  \n",
    "    \n",
    "def ema(data):\n",
    "    data[\"ema12\"] = ta.EMA(data[\"Adj Close\"],timeperiod = 12)\n",
    "    data[\"ema26\"] = ta.EMA(data[\"Adj Close\"],timeperiod = 26)\n",
    "\n",
    "    \n",
    "def adx(data):\n",
    "    data[\"adx\"] = ta.ADX(data[\"High\"], data[\"Low\"],data[\"Adj Close\"],timeperiod = 10)\n",
    "    \n",
    "def obv(data):\n",
    "    data[\"obv\"] = ta.OBV(data[\"Adj Close\"],data[\"Volume\"])/10**6\n",
    "    \n",
    "    \n",
    "def atr(data):\n",
    "    data[\"atr\"] = ta.ATR(data[\"High\"],data[\"Low\"],data[\"Close\"])\n",
    "    \n",
    "def bbands(data):\n",
    "    data['BBANDS_U'] = ta.BBANDS(data[\"Close\"], timeperiod=21)[0]\n",
    "    data['BBANDS_M'] = ta.BBANDS(data[\"Close\"], timeperiod=21)[1]\n",
    "    data['BBANDS_L'] = ta.BBANDS(data[\"Close\"], timeperiod=21)[2]\n",
    "    "
   ]
  },
  {
   "cell_type": "code",
   "execution_count": 4,
   "id": "5bc4b40b",
   "metadata": {},
   "outputs": [
    {
     "data": {
      "text/html": [
       "<div>\n",
       "<style scoped>\n",
       "    .dataframe tbody tr th:only-of-type {\n",
       "        vertical-align: middle;\n",
       "    }\n",
       "\n",
       "    .dataframe tbody tr th {\n",
       "        vertical-align: top;\n",
       "    }\n",
       "\n",
       "    .dataframe thead th {\n",
       "        text-align: right;\n",
       "    }\n",
       "</style>\n",
       "<table border=\"1\" class=\"dataframe\">\n",
       "  <thead>\n",
       "    <tr style=\"text-align: right;\">\n",
       "      <th></th>\n",
       "      <th>Open</th>\n",
       "      <th>High</th>\n",
       "      <th>Low</th>\n",
       "      <th>Close</th>\n",
       "      <th>Adj Close</th>\n",
       "      <th>Volume</th>\n",
       "      <th>vwap</th>\n",
       "      <th>ema12</th>\n",
       "      <th>ema26</th>\n",
       "      <th>adx</th>\n",
       "      <th>atr</th>\n",
       "      <th>BBANDS_U</th>\n",
       "      <th>BBANDS_M</th>\n",
       "      <th>BBANDS_L</th>\n",
       "    </tr>\n",
       "    <tr>\n",
       "      <th>Date</th>\n",
       "      <th></th>\n",
       "      <th></th>\n",
       "      <th></th>\n",
       "      <th></th>\n",
       "      <th></th>\n",
       "      <th></th>\n",
       "      <th></th>\n",
       "      <th></th>\n",
       "      <th></th>\n",
       "      <th></th>\n",
       "      <th></th>\n",
       "      <th></th>\n",
       "      <th></th>\n",
       "      <th></th>\n",
       "    </tr>\n",
       "  </thead>\n",
       "  <tbody>\n",
       "    <tr>\n",
       "      <th>2005-01-03</th>\n",
       "      <td>83.459282</td>\n",
       "      <td>84.325752</td>\n",
       "      <td>82.592819</td>\n",
       "      <td>84.147812</td>\n",
       "      <td>72.612518</td>\n",
       "      <td>44391146</td>\n",
       "      <td>NaN</td>\n",
       "      <td>NaN</td>\n",
       "      <td>NaN</td>\n",
       "      <td>NaN</td>\n",
       "      <td>NaN</td>\n",
       "      <td>NaN</td>\n",
       "      <td>NaN</td>\n",
       "      <td>NaN</td>\n",
       "    </tr>\n",
       "    <tr>\n",
       "      <th>2005-01-04</th>\n",
       "      <td>85.099380</td>\n",
       "      <td>85.099380</td>\n",
       "      <td>81.942963</td>\n",
       "      <td>82.198265</td>\n",
       "      <td>70.930222</td>\n",
       "      <td>33984747</td>\n",
       "      <td>71.883054</td>\n",
       "      <td>NaN</td>\n",
       "      <td>NaN</td>\n",
       "      <td>NaN</td>\n",
       "      <td>NaN</td>\n",
       "      <td>NaN</td>\n",
       "      <td>NaN</td>\n",
       "      <td>NaN</td>\n",
       "    </tr>\n",
       "    <tr>\n",
       "      <th>2005-01-05</th>\n",
       "      <td>81.385956</td>\n",
       "      <td>82.538666</td>\n",
       "      <td>79.861900</td>\n",
       "      <td>81.997124</td>\n",
       "      <td>70.756668</td>\n",
       "      <td>51895844</td>\n",
       "      <td>70.825347</td>\n",
       "      <td>NaN</td>\n",
       "      <td>NaN</td>\n",
       "      <td>NaN</td>\n",
       "      <td>NaN</td>\n",
       "      <td>NaN</td>\n",
       "      <td>NaN</td>\n",
       "      <td>NaN</td>\n",
       "    </tr>\n",
       "    <tr>\n",
       "      <th>2005-01-06</th>\n",
       "      <td>81.695404</td>\n",
       "      <td>83.010574</td>\n",
       "      <td>80.805733</td>\n",
       "      <td>81.416901</td>\n",
       "      <td>70.255966</td>\n",
       "      <td>42447893</td>\n",
       "      <td>70.531388</td>\n",
       "      <td>NaN</td>\n",
       "      <td>NaN</td>\n",
       "      <td>NaN</td>\n",
       "      <td>NaN</td>\n",
       "      <td>NaN</td>\n",
       "      <td>NaN</td>\n",
       "      <td>NaN</td>\n",
       "    </tr>\n",
       "    <tr>\n",
       "      <th>2005-01-07</th>\n",
       "      <td>82.778488</td>\n",
       "      <td>84.743507</td>\n",
       "      <td>81.625778</td>\n",
       "      <td>83.900253</td>\n",
       "      <td>72.398903</td>\n",
       "      <td>49904274</td>\n",
       "      <td>71.413943</td>\n",
       "      <td>NaN</td>\n",
       "      <td>NaN</td>\n",
       "      <td>NaN</td>\n",
       "      <td>NaN</td>\n",
       "      <td>NaN</td>\n",
       "      <td>NaN</td>\n",
       "      <td>NaN</td>\n",
       "    </tr>\n",
       "    <tr>\n",
       "      <th>...</th>\n",
       "      <td>...</td>\n",
       "      <td>...</td>\n",
       "      <td>...</td>\n",
       "      <td>...</td>\n",
       "      <td>...</td>\n",
       "      <td>...</td>\n",
       "      <td>...</td>\n",
       "      <td>...</td>\n",
       "      <td>...</td>\n",
       "      <td>...</td>\n",
       "      <td>...</td>\n",
       "      <td>...</td>\n",
       "      <td>...</td>\n",
       "      <td>...</td>\n",
       "    </tr>\n",
       "    <tr>\n",
       "      <th>2019-12-24</th>\n",
       "      <td>1554.168091</td>\n",
       "      <td>1557.288452</td>\n",
       "      <td>1528.015991</td>\n",
       "      <td>1531.928833</td>\n",
       "      <td>1521.304321</td>\n",
       "      <td>8329356</td>\n",
       "      <td>1535.583837</td>\n",
       "      <td>1545.100335</td>\n",
       "      <td>1523.994163</td>\n",
       "      <td>23.472534</td>\n",
       "      <td>29.210574</td>\n",
       "      <td>1586.217071</td>\n",
       "      <td>1555.045433</td>\n",
       "      <td>1523.873796</td>\n",
       "    </tr>\n",
       "    <tr>\n",
       "      <th>2019-12-26</th>\n",
       "      <td>1527.173950</td>\n",
       "      <td>1538.367798</td>\n",
       "      <td>1495.969727</td>\n",
       "      <td>1501.170410</td>\n",
       "      <td>1490.759155</td>\n",
       "      <td>13734705</td>\n",
       "      <td>1502.290195</td>\n",
       "      <td>1536.740153</td>\n",
       "      <td>1521.532310</td>\n",
       "      <td>24.134809</td>\n",
       "      <td>30.152538</td>\n",
       "      <td>1591.525516</td>\n",
       "      <td>1552.929775</td>\n",
       "      <td>1514.334033</td>\n",
       "    </tr>\n",
       "    <tr>\n",
       "      <th>2019-12-27</th>\n",
       "      <td>1512.661499</td>\n",
       "      <td>1531.681152</td>\n",
       "      <td>1507.015015</td>\n",
       "      <td>1527.867310</td>\n",
       "      <td>1517.270874</td>\n",
       "      <td>8158196</td>\n",
       "      <td>1500.638513</td>\n",
       "      <td>1533.744880</td>\n",
       "      <td>1521.216648</td>\n",
       "      <td>24.730856</td>\n",
       "      <td>30.178124</td>\n",
       "      <td>1591.653023</td>\n",
       "      <td>1551.632545</td>\n",
       "      <td>1511.612067</td>\n",
       "    </tr>\n",
       "    <tr>\n",
       "      <th>2019-12-30</th>\n",
       "      <td>1531.433594</td>\n",
       "      <td>1533.117554</td>\n",
       "      <td>1513.701660</td>\n",
       "      <td>1529.699951</td>\n",
       "      <td>1519.090820</td>\n",
       "      <td>7902607</td>\n",
       "      <td>1518.166366</td>\n",
       "      <td>1531.490409</td>\n",
       "      <td>1521.059180</td>\n",
       "      <td>25.121124</td>\n",
       "      <td>29.409394</td>\n",
       "      <td>1590.491222</td>\n",
       "      <td>1549.929641</td>\n",
       "      <td>1509.368060</td>\n",
       "    </tr>\n",
       "    <tr>\n",
       "      <th>2019-12-31</th>\n",
       "      <td>1527.520630</td>\n",
       "      <td>1529.204712</td>\n",
       "      <td>1493.889404</td>\n",
       "      <td>1499.833130</td>\n",
       "      <td>1489.431152</td>\n",
       "      <td>10246683</td>\n",
       "      <td>1502.345635</td>\n",
       "      <td>1525.019754</td>\n",
       "      <td>1518.716363</td>\n",
       "      <td>26.520742</td>\n",
       "      <td>29.866619</td>\n",
       "      <td>1593.754778</td>\n",
       "      <td>1548.179565</td>\n",
       "      <td>1502.604353</td>\n",
       "    </tr>\n",
       "  </tbody>\n",
       "</table>\n",
       "<p>3696 rows × 14 columns</p>\n",
       "</div>"
      ],
      "text/plain": [
       "                   Open         High          Low        Close    Adj Close  \\\n",
       "Date                                                                          \n",
       "2005-01-03    83.459282    84.325752    82.592819    84.147812    72.612518   \n",
       "2005-01-04    85.099380    85.099380    81.942963    82.198265    70.930222   \n",
       "2005-01-05    81.385956    82.538666    79.861900    81.997124    70.756668   \n",
       "2005-01-06    81.695404    83.010574    80.805733    81.416901    70.255966   \n",
       "2005-01-07    82.778488    84.743507    81.625778    83.900253    72.398903   \n",
       "...                 ...          ...          ...          ...          ...   \n",
       "2019-12-24  1554.168091  1557.288452  1528.015991  1531.928833  1521.304321   \n",
       "2019-12-26  1527.173950  1538.367798  1495.969727  1501.170410  1490.759155   \n",
       "2019-12-27  1512.661499  1531.681152  1507.015015  1527.867310  1517.270874   \n",
       "2019-12-30  1531.433594  1533.117554  1513.701660  1529.699951  1519.090820   \n",
       "2019-12-31  1527.520630  1529.204712  1493.889404  1499.833130  1489.431152   \n",
       "\n",
       "              Volume         vwap        ema12        ema26        adx  \\\n",
       "Date                                                                     \n",
       "2005-01-03  44391146          NaN          NaN          NaN        NaN   \n",
       "2005-01-04  33984747    71.883054          NaN          NaN        NaN   \n",
       "2005-01-05  51895844    70.825347          NaN          NaN        NaN   \n",
       "2005-01-06  42447893    70.531388          NaN          NaN        NaN   \n",
       "2005-01-07  49904274    71.413943          NaN          NaN        NaN   \n",
       "...              ...          ...          ...          ...        ...   \n",
       "2019-12-24   8329356  1535.583837  1545.100335  1523.994163  23.472534   \n",
       "2019-12-26  13734705  1502.290195  1536.740153  1521.532310  24.134809   \n",
       "2019-12-27   8158196  1500.638513  1533.744880  1521.216648  24.730856   \n",
       "2019-12-30   7902607  1518.166366  1531.490409  1521.059180  25.121124   \n",
       "2019-12-31  10246683  1502.345635  1525.019754  1518.716363  26.520742   \n",
       "\n",
       "                  atr     BBANDS_U     BBANDS_M     BBANDS_L  \n",
       "Date                                                          \n",
       "2005-01-03        NaN          NaN          NaN          NaN  \n",
       "2005-01-04        NaN          NaN          NaN          NaN  \n",
       "2005-01-05        NaN          NaN          NaN          NaN  \n",
       "2005-01-06        NaN          NaN          NaN          NaN  \n",
       "2005-01-07        NaN          NaN          NaN          NaN  \n",
       "...               ...          ...          ...          ...  \n",
       "2019-12-24  29.210574  1586.217071  1555.045433  1523.873796  \n",
       "2019-12-26  30.152538  1591.525516  1552.929775  1514.334033  \n",
       "2019-12-27  30.178124  1591.653023  1551.632545  1511.612067  \n",
       "2019-12-30  29.409394  1590.491222  1549.929641  1509.368060  \n",
       "2019-12-31  29.866619  1593.754778  1548.179565  1502.604353  \n",
       "\n",
       "[3696 rows x 14 columns]"
      ]
     },
     "execution_count": 4,
     "metadata": {},
     "output_type": "execute_result"
    }
   ],
   "source": [
    "vwap(dd)\n",
    "ema(dd)\n",
    "adx(dd)\n",
    "atr(dd)\n",
    "bbands(dd)\n",
    "dd"
   ]
  },
  {
   "cell_type": "code",
   "execution_count": 5,
   "id": "f53042a6",
   "metadata": {},
   "outputs": [
    {
     "data": {
      "text/plain": [
       "<AxesSubplot:>"
      ]
     },
     "execution_count": 5,
     "metadata": {},
     "output_type": "execute_result"
    },
    {
     "data": {
      "image/png": "[encoded data removed]",
      "text/plain": [
       "<Figure size 432x288 with 2 Axes>"
      ]
     },
     "metadata": {
      "needs_background": "light"
     },
     "output_type": "display_data"
    }
   ],
   "source": [
    "cor = dd.iloc[:,6:].corr()\n",
    "import seaborn as sns\n",
    "sns.heatmap(cor)"
   ]
  },
  {
   "cell_type": "code",
   "execution_count": 6,
   "id": "64eed1b0",
   "metadata": {},
   "outputs": [],
   "source": [
    "dd[\"returns1\"] = dd[\"Close\"].pct_change() \n",
    "dd[\"returns3\"] = dd[\"Close\"].pct_change(periods = 3)\n",
    "dd[\"returns7\"] = dd[\"Close\"].pct_change(periods = 7)\n",
    "dd['ema21'] = ta.EMA(data[\"Adj Close\"],timeperiod = 21)"
   ]
  },
  {
   "cell_type": "code",
   "execution_count": 7,
   "id": "9bb61cc6",
   "metadata": {},
   "outputs": [
    {
     "data": {
      "text/plain": [
       "<AxesSubplot:>"
      ]
     },
     "execution_count": 7,
     "metadata": {},
     "output_type": "execute_result"
    },
    {
     "data": {
      "image/png": "[encoded data removed]",
      "text/plain": [
       "<Figure size 432x288 with 2 Axes>"
      ]
     },
     "metadata": {
      "needs_background": "light"
     },
     "output_type": "display_data"
    }
   ],
   "source": [
    "sns.heatmap(dd.iloc[:,6:].corr())"
   ]
  },
  {
   "cell_type": "code",
   "execution_count": 8,
   "id": "004c3fe3",
   "metadata": {},
   "outputs": [
    {
     "data": {
      "text/html": [
       "<div>\n",
       "<style scoped>\n",
       "    .dataframe tbody tr th:only-of-type {\n",
       "        vertical-align: middle;\n",
       "    }\n",
       "\n",
       "    .dataframe tbody tr th {\n",
       "        vertical-align: top;\n",
       "    }\n",
       "\n",
       "    .dataframe thead th {\n",
       "        text-align: right;\n",
       "    }\n",
       "</style>\n",
       "<table border=\"1\" class=\"dataframe\">\n",
       "  <thead>\n",
       "    <tr style=\"text-align: right;\">\n",
       "      <th></th>\n",
       "      <th>ema21</th>\n",
       "      <th>vwap</th>\n",
       "      <th>atr</th>\n",
       "      <th>returns1</th>\n",
       "      <th>returns3</th>\n",
       "      <th>returns7</th>\n",
       "      <th>BBANDS_U</th>\n",
       "      <th>BBANDS_M</th>\n",
       "      <th>BBANDS_L</th>\n",
       "    </tr>\n",
       "  </thead>\n",
       "  <tbody>\n",
       "    <tr>\n",
       "      <th>ema21</th>\n",
       "      <td>1.000000</td>\n",
       "      <td>0.997432</td>\n",
       "      <td>0.736901</td>\n",
       "      <td>-0.021138</td>\n",
       "      <td>-0.028717</td>\n",
       "      <td>-0.034283</td>\n",
       "      <td>0.996027</td>\n",
       "      <td>0.998545</td>\n",
       "      <td>0.996607</td>\n",
       "    </tr>\n",
       "    <tr>\n",
       "      <th>vwap</th>\n",
       "      <td>0.997432</td>\n",
       "      <td>1.000000</td>\n",
       "      <td>0.726060</td>\n",
       "      <td>-0.011235</td>\n",
       "      <td>0.003024</td>\n",
       "      <td>0.013873</td>\n",
       "      <td>0.992621</td>\n",
       "      <td>0.994778</td>\n",
       "      <td>0.992455</td>\n",
       "    </tr>\n",
       "    <tr>\n",
       "      <th>atr</th>\n",
       "      <td>0.736901</td>\n",
       "      <td>0.726060</td>\n",
       "      <td>1.000000</td>\n",
       "      <td>-0.024368</td>\n",
       "      <td>-0.042625</td>\n",
       "      <td>-0.079139</td>\n",
       "      <td>0.781855</td>\n",
       "      <td>0.756110</td>\n",
       "      <td>0.723848</td>\n",
       "    </tr>\n",
       "    <tr>\n",
       "      <th>returns1</th>\n",
       "      <td>-0.021138</td>\n",
       "      <td>-0.011235</td>\n",
       "      <td>-0.024368</td>\n",
       "      <td>1.000000</td>\n",
       "      <td>0.624942</td>\n",
       "      <td>0.436453</td>\n",
       "      <td>-0.022843</td>\n",
       "      <td>-0.024006</td>\n",
       "      <td>-0.025186</td>\n",
       "    </tr>\n",
       "    <tr>\n",
       "      <th>returns3</th>\n",
       "      <td>-0.028717</td>\n",
       "      <td>0.003024</td>\n",
       "      <td>-0.042625</td>\n",
       "      <td>0.624942</td>\n",
       "      <td>1.000000</td>\n",
       "      <td>0.637111</td>\n",
       "      <td>-0.033696</td>\n",
       "      <td>-0.035447</td>\n",
       "      <td>-0.037228</td>\n",
       "    </tr>\n",
       "    <tr>\n",
       "      <th>returns7</th>\n",
       "      <td>-0.034283</td>\n",
       "      <td>0.013873</td>\n",
       "      <td>-0.079139</td>\n",
       "      <td>0.436453</td>\n",
       "      <td>0.637111</td>\n",
       "      <td>1.000000</td>\n",
       "      <td>-0.044485</td>\n",
       "      <td>-0.047918</td>\n",
       "      <td>-0.051514</td>\n",
       "    </tr>\n",
       "    <tr>\n",
       "      <th>BBANDS_U</th>\n",
       "      <td>0.996027</td>\n",
       "      <td>0.992621</td>\n",
       "      <td>0.781855</td>\n",
       "      <td>-0.022843</td>\n",
       "      <td>-0.033696</td>\n",
       "      <td>-0.044485</td>\n",
       "      <td>1.000000</td>\n",
       "      <td>0.997983</td>\n",
       "      <td>0.990998</td>\n",
       "    </tr>\n",
       "    <tr>\n",
       "      <th>BBANDS_M</th>\n",
       "      <td>0.998545</td>\n",
       "      <td>0.994778</td>\n",
       "      <td>0.756110</td>\n",
       "      <td>-0.024006</td>\n",
       "      <td>-0.035447</td>\n",
       "      <td>-0.047918</td>\n",
       "      <td>0.997983</td>\n",
       "      <td>1.000000</td>\n",
       "      <td>0.997498</td>\n",
       "    </tr>\n",
       "    <tr>\n",
       "      <th>BBANDS_L</th>\n",
       "      <td>0.996607</td>\n",
       "      <td>0.992455</td>\n",
       "      <td>0.723848</td>\n",
       "      <td>-0.025186</td>\n",
       "      <td>-0.037228</td>\n",
       "      <td>-0.051514</td>\n",
       "      <td>0.990998</td>\n",
       "      <td>0.997498</td>\n",
       "      <td>1.000000</td>\n",
       "    </tr>\n",
       "  </tbody>\n",
       "</table>\n",
       "</div>"
      ],
      "text/plain": [
       "             ema21      vwap       atr  returns1  returns3  returns7  \\\n",
       "ema21     1.000000  0.997432  0.736901 -0.021138 -0.028717 -0.034283   \n",
       "vwap      0.997432  1.000000  0.726060 -0.011235  0.003024  0.013873   \n",
       "atr       0.736901  0.726060  1.000000 -0.024368 -0.042625 -0.079139   \n",
       "returns1 -0.021138 -0.011235 -0.024368  1.000000  0.624942  0.436453   \n",
       "returns3 -0.028717  0.003024 -0.042625  0.624942  1.000000  0.637111   \n",
       "returns7 -0.034283  0.013873 -0.079139  0.436453  0.637111  1.000000   \n",
       "BBANDS_U  0.996027  0.992621  0.781855 -0.022843 -0.033696 -0.044485   \n",
       "BBANDS_M  0.998545  0.994778  0.756110 -0.024006 -0.035447 -0.047918   \n",
       "BBANDS_L  0.996607  0.992455  0.723848 -0.025186 -0.037228 -0.051514   \n",
       "\n",
       "          BBANDS_U  BBANDS_M  BBANDS_L  \n",
       "ema21     0.996027  0.998545  0.996607  \n",
       "vwap      0.992621  0.994778  0.992455  \n",
       "atr       0.781855  0.756110  0.723848  \n",
       "returns1 -0.022843 -0.024006 -0.025186  \n",
       "returns3 -0.033696 -0.035447 -0.037228  \n",
       "returns7 -0.044485 -0.047918 -0.051514  \n",
       "BBANDS_U  1.000000  0.997983  0.990998  \n",
       "BBANDS_M  0.997983  1.000000  0.997498  \n",
       "BBANDS_L  0.990998  0.997498  1.000000  "
      ]
     },
     "execution_count": 8,
     "metadata": {},
     "output_type": "execute_result"
    }
   ],
   "source": [
    "df = dd[[\"ema21\",\"vwap\",\"atr\",\"returns1\",\"returns3\",\"returns7\",'BBANDS_U','BBANDS_M','BBANDS_L']].dropna()\n",
    "df.corr()"
   ]
  },
  {
   "cell_type": "code",
   "execution_count": 9,
   "id": "1ce51998",
   "metadata": {},
   "outputs": [
    {
     "data": {
      "text/plain": [
       "<AxesSubplot:>"
      ]
     },
     "execution_count": 9,
     "metadata": {},
     "output_type": "execute_result"
    },
    {
     "data": {
      "image/png": "[encoded data removed]",
      "text/plain": [
       "<Figure size 432x288 with 2 Axes>"
      ]
     },
     "metadata": {
      "needs_background": "light"
     },
     "output_type": "display_data"
    }
   ],
   "source": [
    "sns.heatmap(df.corr())"
   ]
  },
  {
   "cell_type": "code",
   "execution_count": 10,
   "id": "0e4da232",
   "metadata": {},
   "outputs": [
    {
     "data": {
      "text/plain": [
       "(0.9612310507681406,\n",
       " 0.9938395719790822,\n",
       " 18,\n",
       " 3657,\n",
       " {'1%': -3.4321394164727073,\n",
       "  '5%': -2.8623306646906066,\n",
       "  '10%': -2.5671908827224343},\n",
       " 10389.93649144419)"
      ]
     },
     "execution_count": 10,
     "metadata": {},
     "output_type": "execute_result"
    }
   ],
   "source": [
    "from statsmodels.tsa.stattools import adfuller\n",
    "adfuller(df.iloc[:,0])"
   ]
  },
  {
   "cell_type": "code",
   "execution_count": 11,
   "id": "048ce8a8",
   "metadata": {},
   "outputs": [
    {
     "name": "stdout",
     "output_type": "stream",
     "text": [
      "(0.9612310507681406, 0.9938395719790822, 18, 3657, {'1%': -3.4321394164727073, '5%': -2.8623306646906066, '10%': -2.5671908827224343}, 10389.93649144419)\n",
      "------------------------------------------------------------------------------------------------------------------------\n",
      "(1.1913853455747838, 0.9959258202956044, 19, 3656, {'1%': -3.4321399062635227, '5%': -2.862330881042633, '10%': -2.5671909979009953}, 24413.978334389256)\n",
      "------------------------------------------------------------------------------------------------------------------------\n",
      "(-3.0069651350619244, 0.03424904420446567, 2, 3673, {'1%': -3.4321316161159983, '5%': -2.8623272190863336, '10%': -2.567189048399113}, 6886.745898047155)\n",
      "------------------------------------------------------------------------------------------------------------------------\n",
      "(-30.387318808362533, 0.0, 4, 3671, {'1%': -3.4321325874394772, '5%': -2.862327648143656, '10%': -2.5671892768146547}, -15796.965778902548)\n",
      "------------------------------------------------------------------------------------------------------------------------\n",
      "(-11.482858030907993, 4.945922117799993e-21, 25, 3650, {'1%': -3.4321428506483365, '5%': -2.8623321816453267, '10%': -2.5671916902983676}, -14872.13727176527)\n",
      "------------------------------------------------------------------------------------------------------------------------\n",
      "(-9.444009651539712, 4.809669122916089e-16, 29, 3646, {'1%': -3.4321448189591175, '5%': -2.8623330510928877, '10%': -2.567192153163289}, -14592.223628105134)\n",
      "------------------------------------------------------------------------------------------------------------------------\n",
      "(0.6416575539447645, 0.9885986532152505, 25, 3650, {'1%': -3.4321428506483365, '5%': -2.8623321816453267, '10%': -2.5671916902983676}, 17486.843753439665)\n",
      "------------------------------------------------------------------------------------------------------------------------\n",
      "(0.33607193494677723, 0.9789402479519411, 26, 3649, {'1%': -3.4321433423211882, '5%': -2.862332398828442, '10%': -2.567191805919415}, 7462.450629527912)\n",
      "------------------------------------------------------------------------------------------------------------------------\n"
     ]
    }
   ],
   "source": [
    "for i in range(0,df.shape[1] - 1):\n",
    "    print(adfuller(df.iloc[:,i]))\n",
    "    print('-'* 120)"
   ]
  },
  {
   "cell_type": "code",
   "execution_count": 12,
   "id": "5887807d",
   "metadata": {},
   "outputs": [],
   "source": [
    "df.iloc[:,0] = df.iloc[:,0] / df.iloc[:,0].rolling(window = 21).mean()\n",
    "df = df.dropna()"
   ]
  },
  {
   "cell_type": "code",
   "execution_count": 13,
   "id": "7a7169cb",
   "metadata": {},
   "outputs": [
    {
     "data": {
      "text/plain": [
       "(-8.26872116382361,\n",
       " 4.858306685773469e-13,\n",
       " 24,\n",
       " 3631,\n",
       " {'1%': -3.4321522387754775,\n",
       "  '5%': -2.862336328589075,\n",
       "  '10%': -2.567193897993964},\n",
       " -32420.859781281186)"
      ]
     },
     "execution_count": 13,
     "metadata": {},
     "output_type": "execute_result"
    }
   ],
   "source": [
    "adfuller(df.iloc[:,0])"
   ]
  },
  {
   "cell_type": "code",
   "execution_count": 14,
   "id": "83dbf4cc",
   "metadata": {},
   "outputs": [],
   "source": [
    "for i in range(1,df.shape[1] - 1):\n",
    "    df.iloc[:,i] = df.iloc[:,i] / df.iloc[:,i].rolling(window = 21).mean()"
   ]
  },
  {
   "cell_type": "code",
   "execution_count": 15,
   "id": "bb02e289",
   "metadata": {},
   "outputs": [],
   "source": [
    "df = df.dropna()"
   ]
  },
  {
   "cell_type": "code",
   "execution_count": 16,
   "id": "6177dbe8",
   "metadata": {},
   "outputs": [
    {
     "name": "stdout",
     "output_type": "stream",
     "text": [
      "(-8.25417506777418, 5.291791786273078e-13, 24, 3611, {'1%': -3.432162227822101, '5%': -2.862340740957934, '10%': -2.56719624699553}, -32226.480023830627)\n",
      "------------------------------------------------------------------------------------------------------------------------\n",
      "(-9.440633627381057, 4.905715156289023e-16, 20, 3615, {'1%': -3.4321602211641724, '5%': -2.8623398545767365, '10%': -2.56719577511483}, -21450.267917861962)\n",
      "------------------------------------------------------------------------------------------------------------------------\n",
      "(-13.596513941817445, 1.9902980639365918e-25, 10, 3625, {'1%': -3.4321552239077326, '5%': -2.8623376471853903, '10%': -2.5671945999714625}, -10231.079421587056)\n",
      "------------------------------------------------------------------------------------------------------------------------\n",
      "(-60.44022154574028, 0.0, 0, 3635, {'1%': -3.432150254165979, '5%': -2.8623354519441797, '10%': -2.567193431297053}, 50046.65217895084)\n",
      "------------------------------------------------------------------------------------------------------------------------\n",
      "(-12.355818999528593, 5.68972739358226e-23, 29, 3606, {'1%': -3.4321647424093515, '5%': -2.8623418517008936, '10%': -2.567196838319323}, 48239.46118990789)\n",
      "------------------------------------------------------------------------------------------------------------------------\n",
      "(-37.537017933823954, 0.0, 1, 3634, {'1%': -3.432150749908472, '5%': -2.8623356709244043, '10%': -2.5671935478749135}, 37278.78760979242)\n",
      "------------------------------------------------------------------------------------------------------------------------\n",
      "(-9.221760400527325, 1.772182769942672e-15, 24, 3611, {'1%': -3.432162227822101, '5%': -2.862340740957934, '10%': -2.56719624699553}, -23352.403918408345)\n",
      "------------------------------------------------------------------------------------------------------------------------\n",
      "(-8.6106927733233, 6.488087582108788e-14, 29, 3606, {'1%': -3.4321647424093515, '5%': -2.8623418517008936, '10%': -2.567196838319323}, -35723.84840804841)\n",
      "------------------------------------------------------------------------------------------------------------------------\n"
     ]
    }
   ],
   "source": [
    "for i in range(0,df.shape[1] - 1):\n",
    "    print(adfuller(df.iloc[:,i]))\n",
    "    print('-'* 120)"
   ]
  },
  {
   "cell_type": "code",
   "execution_count": null,
   "id": "50fc45e9",
   "metadata": {},
   "outputs": [],
   "source": []
  }
 ],
 "metadata": {
  "kernelspec": {
   "display_name": "Python 3 (ipykernel)",
   "language": "python",
   "name": "python3"
  },
  "language_info": {
   "codemirror_mode": {
    "name": "ipython",
    "version": 3
   },
   "file_extension": ".py",
   "mimetype": "text/x-python",
   "name": "python",
   "nbconvert_exporter": "python",
   "pygments_lexer": "ipython3",
   "version": "3.9.7"
  }
 },
 "nbformat": 4,
 "nbformat_minor": 5
}
